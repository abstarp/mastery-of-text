{
 "cells": [
  {
   "cell_type": "markdown",
   "id": "a42a9c83-5f5f-44b4-8059-830a195d6e88",
   "metadata": {},
   "source": [
    "## steps\n",
    "- find a way to download the text (https://www.youtube.com/watch?v=DIE10I3_8TU) \n",
    "- find a way to count lines (\\n -> represents the end of a line in a string)\n",
    "- find a way to count the word 'apostle' (https://www.w3schools.com/python/ref_list_count.asp)\n",
    "- most common word? (https://www.geeksforgeeks.org/find-the-most-repeated-word-in-a-text-file/)"
   ]
  },
  {
   "cell_type": "code",
   "execution_count": 1,
   "id": "648203a8-65c8-4f41-a7c5-48ad0bf42ac2",
   "metadata": {},
   "outputs": [],
   "source": [
    "import urllib.request\n",
    "\n",
    "url = \"https://www.gutenberg.org/cache/epub/10/pg10.txt\"\n",
    "response = urllib.request.urlopen(url)\n",
    "data = response.read()\n",
    "\n",
    "pg10 = data.decode(\"utf-8\")"
   ]
  },
  {
   "cell_type": "markdown",
   "id": "56e4fffc-69db-4bd9-b16a-425661e7aa9c",
   "metadata": {},
   "source": [
    "### 1. How many lines does the string have?"
   ]
  },
  {
   "cell_type": "code",
   "execution_count": 2,
   "id": "598f4c2a-1e27-4caa-a54d-b06155f6897d",
   "metadata": {},
   "outputs": [
    {
     "name": "stdout",
     "output_type": "stream",
     "text": [
      "Number of lines: 99969\n"
     ]
    }
   ],
   "source": [
    "num_lines = pg10.count(\"\\n\") + 1\n",
    "print(f\"Number of lines: {num_lines}\")"
   ]
  },
  {
   "cell_type": "markdown",
   "id": "373b8276-d902-455f-99ae-13e0ee0359de",
   "metadata": {},
   "source": [
    "### 2. How many words does the string have? (where a word is any set of directly-adjacent alphabet characters)"
   ]
  },
  {
   "cell_type": "code",
   "execution_count": 5,
   "id": "baeeb67b-e5d9-411d-8f27-ee532e5283ab",
   "metadata": {},
   "outputs": [
    {
     "name": "stdout",
     "output_type": "stream",
     "text": [
      "Number of words: 795227\n"
     ]
    }
   ],
   "source": [
    "words = []\n",
    "current_word = \"\"\n",
    "for char in pg10:\n",
    "    if char.isalpha():\n",
    "        current_word += char\n",
    "    else:\n",
    "        if current_word:\n",
    "            words.append(current_word)\n",
    "            current_word = \"\"\n",
    "if current_word:\n",
    "    words.append(current_word)\n",
    "\n",
    "# Count the number of words\n",
    "num_words = len(words)\n",
    "\n",
    "print(f\"Number of words: {num_words}\")"
   ]
  },
  {
   "cell_type": "markdown",
   "id": "4a6c9e8c-96f7-43de-bc84-89ae5ae87b31",
   "metadata": {},
   "source": [
    "### 3. How many times does the word \"apostle\", ignoring capitalization, appear in the string?"
   ]
  },
  {
   "cell_type": "code",
   "execution_count": 7,
   "id": "f087b8fc-11dc-4cf3-91cc-8f13c55b9ac1",
   "metadata": {},
   "outputs": [
    {
     "name": "stdout",
     "output_type": "stream",
     "text": [
      "Number of times the word 'apostle' appears: 113\n"
     ]
    }
   ],
   "source": [
    "num_apostle = pg10.lower().count(\"apostle\")\n",
    "print(f\"Number of times the word 'apostle' appears: {num_apostle}\")"
   ]
  },
  {
   "cell_type": "markdown",
   "id": "902d9720-a95d-4e0d-a89d-c3756a4889df",
   "metadata": {},
   "source": [
    "### 4. What is the most common word, ignoring capitalization, in the string? (where a word is any set of directly-adjacent alphabet characters)\n"
   ]
  },
  {
   "cell_type": "code",
   "execution_count": 9,
   "id": "b35954da-23ff-4d1d-baed-9eaa327411bc",
   "metadata": {},
   "outputs": [
    {
     "name": "stdout",
     "output_type": "stream",
     "text": [
      "Most common word: the ( 64298 times)\n"
     ]
    }
   ],
   "source": [
    "# directly-adjacent alphabet characters\n",
    "\n",
    "# dictionary to count word frequencies\n",
    "word_counts = {}\n",
    "\n",
    "# split the text into lines\n",
    "lines = pg10.splitlines()\n",
    "\n",
    "for line in lines:\n",
    "    line_word = line.lower().replace(',', '').replace('.', '').replace(';', '').replace(':', '').replace('!', '').replace('?', '').split()\n",
    "    for word in line_word:\n",
    "        # Update word frequency count in the dictionary\n",
    "        if word in word_counts:\n",
    "            word_counts[word] += 1\n",
    "        else:\n",
    "            word_counts[word] = 1\n",
    "\n",
    "# Find the most common word\n",
    "most_common_word = max(word_counts, key=word_counts.get)\n",
    "\n",
    "print(\"Most common word:\", most_common_word, \"(\", word_counts[most_common_word], \"times)\")\n"
   ]
  }
 ],
 "metadata": {
  "kernelspec": {
   "display_name": "Python 3 (ipykernel)",
   "language": "python",
   "name": "python3"
  },
  "language_info": {
   "codemirror_mode": {
    "name": "ipython",
    "version": 3
   },
   "file_extension": ".py",
   "mimetype": "text/x-python",
   "name": "python",
   "nbconvert_exporter": "python",
   "pygments_lexer": "ipython3",
   "version": "3.11.7"
  }
 },
 "nbformat": 4,
 "nbformat_minor": 5
}
